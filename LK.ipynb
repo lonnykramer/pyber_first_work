{
 "cells": [
  {
   "cell_type": "code",
   "execution_count": 102,
   "metadata": {},
   "outputs": [
    {
     "data": {
      "text/html": [
       "<div>\n",
       "<style scoped>\n",
       "    .dataframe tbody tr th:only-of-type {\n",
       "        vertical-align: middle;\n",
       "    }\n",
       "\n",
       "    .dataframe tbody tr th {\n",
       "        vertical-align: top;\n",
       "    }\n",
       "\n",
       "    .dataframe thead th {\n",
       "        text-align: right;\n",
       "    }\n",
       "</style>\n",
       "<table border=\"1\" class=\"dataframe\">\n",
       "  <thead>\n",
       "    <tr style=\"text-align: right;\">\n",
       "      <th></th>\n",
       "      <th>city</th>\n",
       "      <th>driver_count</th>\n",
       "      <th>type</th>\n",
       "      <th>date</th>\n",
       "      <th>fare</th>\n",
       "      <th>ride_id</th>\n",
       "    </tr>\n",
       "  </thead>\n",
       "  <tbody>\n",
       "    <tr>\n",
       "      <th>0</th>\n",
       "      <td>Richardfort</td>\n",
       "      <td>38</td>\n",
       "      <td>Urban</td>\n",
       "      <td>2018-02-24 08:40:38</td>\n",
       "      <td>13.93</td>\n",
       "      <td>5628545007794</td>\n",
       "    </tr>\n",
       "    <tr>\n",
       "      <th>1</th>\n",
       "      <td>Richardfort</td>\n",
       "      <td>38</td>\n",
       "      <td>Urban</td>\n",
       "      <td>2018-02-13 12:46:07</td>\n",
       "      <td>14.00</td>\n",
       "      <td>910050116494</td>\n",
       "    </tr>\n",
       "    <tr>\n",
       "      <th>2</th>\n",
       "      <td>Richardfort</td>\n",
       "      <td>38</td>\n",
       "      <td>Urban</td>\n",
       "      <td>2018-02-16 13:52:19</td>\n",
       "      <td>17.92</td>\n",
       "      <td>820639054416</td>\n",
       "    </tr>\n",
       "    <tr>\n",
       "      <th>3</th>\n",
       "      <td>Richardfort</td>\n",
       "      <td>38</td>\n",
       "      <td>Urban</td>\n",
       "      <td>2018-02-01 20:18:28</td>\n",
       "      <td>10.26</td>\n",
       "      <td>9554935945413</td>\n",
       "    </tr>\n",
       "    <tr>\n",
       "      <th>4</th>\n",
       "      <td>Richardfort</td>\n",
       "      <td>38</td>\n",
       "      <td>Urban</td>\n",
       "      <td>2018-04-17 02:26:37</td>\n",
       "      <td>23.00</td>\n",
       "      <td>720020655850</td>\n",
       "    </tr>\n",
       "  </tbody>\n",
       "</table>\n",
       "</div>"
      ],
      "text/plain": [
       "          city  driver_count   type                 date   fare        ride_id\n",
       "0  Richardfort            38  Urban  2018-02-24 08:40:38  13.93  5628545007794\n",
       "1  Richardfort            38  Urban  2018-02-13 12:46:07  14.00   910050116494\n",
       "2  Richardfort            38  Urban  2018-02-16 13:52:19  17.92   820639054416\n",
       "3  Richardfort            38  Urban  2018-02-01 20:18:28  10.26  9554935945413\n",
       "4  Richardfort            38  Urban  2018-04-17 02:26:37  23.00   720020655850"
      ]
     },
     "execution_count": 102,
     "metadata": {},
     "output_type": "execute_result"
    }
   ],
   "source": [
    "#%matplotlib inline\n",
    "# Dependencies and Setup\n",
    "import matplotlib.pyplot as plt\n",
    "import pandas as pd\n",
    "\n",
    "# File to Load (Remember to change these)\n",
    "city_data_to_load = \"data/city_data.csv\"\n",
    "ride_data_to_load = \"data/ride_data.csv\"\n",
    "\n",
    "# Read the City and Ride Data\n",
    "city_data_df = pd.read_csv(city_data_to_load)\n",
    "ride_data_df = pd.read_csv(ride_data_to_load)\n",
    "\n",
    "# Combine the data into a single dataset\n",
    "pyber_df = pd.merge(city_data_df, ride_data_df, how='left', on=\"city\")\n",
    "\n",
    "# Display the data table for preview\n",
    "pyber_df.head()"
   ]
  },
  {
   "cell_type": "code",
   "execution_count": 103,
   "metadata": {},
   "outputs": [],
   "source": [
    "pyber_df = pyber_df[['city', 'date','fare', 'ride_id', 'driver_count', 'type']]"
   ]
  },
  {
   "cell_type": "code",
   "execution_count": 104,
   "metadata": {},
   "outputs": [
    {
     "data": {
      "text/html": [
       "<div>\n",
       "<style scoped>\n",
       "    .dataframe tbody tr th:only-of-type {\n",
       "        vertical-align: middle;\n",
       "    }\n",
       "\n",
       "    .dataframe tbody tr th {\n",
       "        vertical-align: top;\n",
       "    }\n",
       "\n",
       "    .dataframe thead th {\n",
       "        text-align: right;\n",
       "    }\n",
       "</style>\n",
       "<table border=\"1\" class=\"dataframe\">\n",
       "  <thead>\n",
       "    <tr style=\"text-align: right;\">\n",
       "      <th></th>\n",
       "      <th>city</th>\n",
       "      <th>date</th>\n",
       "      <th>fare</th>\n",
       "      <th>ride_id</th>\n",
       "      <th>driver_count</th>\n",
       "      <th>type</th>\n",
       "      <th>Nbr of Rides</th>\n",
       "    </tr>\n",
       "  </thead>\n",
       "  <tbody>\n",
       "    <tr>\n",
       "      <th>0</th>\n",
       "      <td>Richardfort</td>\n",
       "      <td>2018-02-24 08:40:38</td>\n",
       "      <td>13.93</td>\n",
       "      <td>5628545007794</td>\n",
       "      <td>38</td>\n",
       "      <td>Urban</td>\n",
       "      <td>1</td>\n",
       "    </tr>\n",
       "    <tr>\n",
       "      <th>1</th>\n",
       "      <td>Richardfort</td>\n",
       "      <td>2018-02-13 12:46:07</td>\n",
       "      <td>14.00</td>\n",
       "      <td>910050116494</td>\n",
       "      <td>38</td>\n",
       "      <td>Urban</td>\n",
       "      <td>1</td>\n",
       "    </tr>\n",
       "    <tr>\n",
       "      <th>2</th>\n",
       "      <td>Richardfort</td>\n",
       "      <td>2018-02-16 13:52:19</td>\n",
       "      <td>17.92</td>\n",
       "      <td>820639054416</td>\n",
       "      <td>38</td>\n",
       "      <td>Urban</td>\n",
       "      <td>1</td>\n",
       "    </tr>\n",
       "    <tr>\n",
       "      <th>3</th>\n",
       "      <td>Richardfort</td>\n",
       "      <td>2018-02-01 20:18:28</td>\n",
       "      <td>10.26</td>\n",
       "      <td>9554935945413</td>\n",
       "      <td>38</td>\n",
       "      <td>Urban</td>\n",
       "      <td>1</td>\n",
       "    </tr>\n",
       "    <tr>\n",
       "      <th>4</th>\n",
       "      <td>Richardfort</td>\n",
       "      <td>2018-04-17 02:26:37</td>\n",
       "      <td>23.00</td>\n",
       "      <td>720020655850</td>\n",
       "      <td>38</td>\n",
       "      <td>Urban</td>\n",
       "      <td>1</td>\n",
       "    </tr>\n",
       "  </tbody>\n",
       "</table>\n",
       "</div>"
      ],
      "text/plain": [
       "          city                 date   fare        ride_id  driver_count  \\\n",
       "0  Richardfort  2018-02-24 08:40:38  13.93  5628545007794            38   \n",
       "1  Richardfort  2018-02-13 12:46:07  14.00   910050116494            38   \n",
       "2  Richardfort  2018-02-16 13:52:19  17.92   820639054416            38   \n",
       "3  Richardfort  2018-02-01 20:18:28  10.26  9554935945413            38   \n",
       "4  Richardfort  2018-04-17 02:26:37  23.00   720020655850            38   \n",
       "\n",
       "    type  Nbr of Rides  \n",
       "0  Urban             1  \n",
       "1  Urban             1  \n",
       "2  Urban             1  \n",
       "3  Urban             1  \n",
       "4  Urban             1  "
      ]
     },
     "execution_count": 104,
     "metadata": {},
     "output_type": "execute_result"
    }
   ],
   "source": [
    "pyber_df[\"Nbr of Rides\"] = 1\n",
    "pyber_df.head()"
   ]
  },
  {
   "cell_type": "code",
   "execution_count": 105,
   "metadata": {
    "scrolled": true
   },
   "outputs": [
    {
     "data": {
      "text/plain": [
       "city             object\n",
       "date             object\n",
       "fare            float64\n",
       "ride_id           int64\n",
       "driver_count      int64\n",
       "type             object\n",
       "Nbr of Rides      int64\n",
       "dtype: object"
      ]
     },
     "execution_count": 105,
     "metadata": {},
     "output_type": "execute_result"
    }
   ],
   "source": [
    "pyber_df.dtypes"
   ]
  },
  {
   "cell_type": "code",
   "execution_count": 106,
   "metadata": {},
   "outputs": [
    {
     "name": "stdout",
     "output_type": "stream",
     "text": [
      "city_group type\n",
      "Rural        4327.93\n",
      "Suburban    19356.33\n",
      "Urban       39854.38\n",
      "Name: fare, dtype: float64\n",
      "city_rides type\n",
      "Rural        125\n",
      "Suburban     625\n",
      "Urban       1625\n",
      "Name: fare, dtype: int64\n",
      "city_types ['Urban', 'Suburban', 'Rural']\n"
     ]
    }
   ],
   "source": [
    "city_group = pyber_df.groupby('type')['fare'].sum()\n",
    "city_rides = pyber_df.groupby('type')['fare'].count()\n",
    "city_types = ['Urban', 'Suburban', 'Rural']\n",
    "\n",
    "print(\"city_group\", city_group)\n",
    "print(\"city_rides\", city_rides)\n",
    "print(\"city_types\", city_types)"
   ]
  },
  {
   "cell_type": "code",
   "execution_count": 107,
   "metadata": {},
   "outputs": [
    {
     "data": {
      "text/html": [
       "<div>\n",
       "<style scoped>\n",
       "    .dataframe tbody tr th:only-of-type {\n",
       "        vertical-align: middle;\n",
       "    }\n",
       "\n",
       "    .dataframe tbody tr th {\n",
       "        vertical-align: top;\n",
       "    }\n",
       "\n",
       "    .dataframe thead th {\n",
       "        text-align: right;\n",
       "    }\n",
       "</style>\n",
       "<table border=\"1\" class=\"dataframe\">\n",
       "  <thead>\n",
       "    <tr style=\"text-align: right;\">\n",
       "      <th></th>\n",
       "      <th>fare</th>\n",
       "    </tr>\n",
       "    <tr>\n",
       "      <th>city</th>\n",
       "      <th></th>\n",
       "    </tr>\n",
       "  </thead>\n",
       "  <tbody>\n",
       "    <tr>\n",
       "      <th>Amandaburgh</th>\n",
       "      <td>18</td>\n",
       "    </tr>\n",
       "    <tr>\n",
       "      <th>Barajasview</th>\n",
       "      <td>22</td>\n",
       "    </tr>\n",
       "    <tr>\n",
       "      <th>Barronchester</th>\n",
       "      <td>16</td>\n",
       "    </tr>\n",
       "    <tr>\n",
       "      <th>Bethanyland</th>\n",
       "      <td>18</td>\n",
       "    </tr>\n",
       "    <tr>\n",
       "      <th>Bradshawfurt</th>\n",
       "      <td>10</td>\n",
       "    </tr>\n",
       "  </tbody>\n",
       "</table>\n",
       "</div>"
      ],
      "text/plain": [
       "               fare\n",
       "city               \n",
       "Amandaburgh      18\n",
       "Barajasview      22\n",
       "Barronchester    16\n",
       "Bethanyland      18\n",
       "Bradshawfurt     10"
      ]
     },
     "execution_count": 107,
     "metadata": {},
     "output_type": "execute_result"
    }
   ],
   "source": [
    "#  want this to just print city type\n",
    "city_category = pyber_df.groupby('city')['type'].first()\n",
    "\n",
    "rides_by_city = pyber_df.groupby('city')['fare'].count()\n",
    "average_by_city = pyber_df.groupby('city')['fare'].mean()\n",
    "\n",
    "rides_count_city = pyber_df.groupby('city')['Nbr of Rides'].sum()\n",
    "ride_sharing_df = pd.DataFrame(rides_by_city)\n",
    "\n",
    "ride_sharing_df.head()"
   ]
  },
  {
   "cell_type": "code",
   "execution_count": 108,
   "metadata": {},
   "outputs": [
    {
     "data": {
      "text/html": [
       "<div>\n",
       "<style scoped>\n",
       "    .dataframe tbody tr th:only-of-type {\n",
       "        vertical-align: middle;\n",
       "    }\n",
       "\n",
       "    .dataframe tbody tr th {\n",
       "        vertical-align: top;\n",
       "    }\n",
       "\n",
       "    .dataframe thead th {\n",
       "        text-align: right;\n",
       "    }\n",
       "</style>\n",
       "<table border=\"1\" class=\"dataframe\">\n",
       "  <thead>\n",
       "    <tr style=\"text-align: right;\">\n",
       "      <th></th>\n",
       "      <th>Rides</th>\n",
       "      <th>Average Fare by City</th>\n",
       "      <th>City Category</th>\n",
       "      <th>Nbr of Rides</th>\n",
       "    </tr>\n",
       "    <tr>\n",
       "      <th>city</th>\n",
       "      <th></th>\n",
       "      <th></th>\n",
       "      <th></th>\n",
       "      <th></th>\n",
       "    </tr>\n",
       "  </thead>\n",
       "  <tbody>\n",
       "    <tr>\n",
       "      <th>Amandaburgh</th>\n",
       "      <td>18</td>\n",
       "      <td>24.641667</td>\n",
       "      <td>Urban</td>\n",
       "      <td>18</td>\n",
       "    </tr>\n",
       "    <tr>\n",
       "      <th>Barajasview</th>\n",
       "      <td>22</td>\n",
       "      <td>25.332273</td>\n",
       "      <td>Urban</td>\n",
       "      <td>22</td>\n",
       "    </tr>\n",
       "    <tr>\n",
       "      <th>Barronchester</th>\n",
       "      <td>16</td>\n",
       "      <td>36.422500</td>\n",
       "      <td>Suburban</td>\n",
       "      <td>16</td>\n",
       "    </tr>\n",
       "    <tr>\n",
       "      <th>Bethanyland</th>\n",
       "      <td>18</td>\n",
       "      <td>32.956111</td>\n",
       "      <td>Suburban</td>\n",
       "      <td>18</td>\n",
       "    </tr>\n",
       "    <tr>\n",
       "      <th>Bradshawfurt</th>\n",
       "      <td>10</td>\n",
       "      <td>40.064000</td>\n",
       "      <td>Rural</td>\n",
       "      <td>10</td>\n",
       "    </tr>\n",
       "  </tbody>\n",
       "</table>\n",
       "</div>"
      ],
      "text/plain": [
       "               Rides  Average Fare by City City Category  Nbr of Rides\n",
       "city                                                                  \n",
       "Amandaburgh       18             24.641667         Urban            18\n",
       "Barajasview       22             25.332273         Urban            22\n",
       "Barronchester     16             36.422500      Suburban            16\n",
       "Bethanyland       18             32.956111      Suburban            18\n",
       "Bradshawfurt      10             40.064000         Rural            10"
      ]
     },
     "execution_count": 108,
     "metadata": {},
     "output_type": "execute_result"
    }
   ],
   "source": [
    "ride_sharing_df['Average Fare by City'] = average_by_city\n",
    "ride_sharing_df['City Category'] = city_category\n",
    "ride_sharing_df['Nbr of Rides'] = rides_count_city\n",
    "ride_sharing_df = ride_sharing_df.rename(columns={'fare': 'Rides'})\n",
    "ride_sharing_df.head()"
   ]
  },
  {
   "cell_type": "code",
   "execution_count": 109,
   "metadata": {},
   "outputs": [
    {
     "data": {
      "text/html": [
       "<div>\n",
       "<style scoped>\n",
       "    .dataframe tbody tr th:only-of-type {\n",
       "        vertical-align: middle;\n",
       "    }\n",
       "\n",
       "    .dataframe tbody tr th {\n",
       "        vertical-align: top;\n",
       "    }\n",
       "\n",
       "    .dataframe thead th {\n",
       "        text-align: right;\n",
       "    }\n",
       "</style>\n",
       "<table border=\"1\" class=\"dataframe\">\n",
       "  <thead>\n",
       "    <tr style=\"text-align: right;\">\n",
       "      <th></th>\n",
       "      <th>city</th>\n",
       "      <th>Rides</th>\n",
       "      <th>Average Fare by City</th>\n",
       "      <th>City Category</th>\n",
       "      <th>Nbr of Rides</th>\n",
       "      <th>driver_count</th>\n",
       "      <th>type</th>\n",
       "    </tr>\n",
       "  </thead>\n",
       "  <tbody>\n",
       "    <tr>\n",
       "      <th>0</th>\n",
       "      <td>Amandaburgh</td>\n",
       "      <td>18</td>\n",
       "      <td>24.641667</td>\n",
       "      <td>Urban</td>\n",
       "      <td>18</td>\n",
       "      <td>12</td>\n",
       "      <td>Urban</td>\n",
       "    </tr>\n",
       "    <tr>\n",
       "      <th>1</th>\n",
       "      <td>Barajasview</td>\n",
       "      <td>22</td>\n",
       "      <td>25.332273</td>\n",
       "      <td>Urban</td>\n",
       "      <td>22</td>\n",
       "      <td>26</td>\n",
       "      <td>Urban</td>\n",
       "    </tr>\n",
       "    <tr>\n",
       "      <th>2</th>\n",
       "      <td>Barronchester</td>\n",
       "      <td>16</td>\n",
       "      <td>36.422500</td>\n",
       "      <td>Suburban</td>\n",
       "      <td>16</td>\n",
       "      <td>11</td>\n",
       "      <td>Suburban</td>\n",
       "    </tr>\n",
       "    <tr>\n",
       "      <th>3</th>\n",
       "      <td>Bethanyland</td>\n",
       "      <td>18</td>\n",
       "      <td>32.956111</td>\n",
       "      <td>Suburban</td>\n",
       "      <td>18</td>\n",
       "      <td>22</td>\n",
       "      <td>Suburban</td>\n",
       "    </tr>\n",
       "    <tr>\n",
       "      <th>4</th>\n",
       "      <td>Bradshawfurt</td>\n",
       "      <td>10</td>\n",
       "      <td>40.064000</td>\n",
       "      <td>Rural</td>\n",
       "      <td>10</td>\n",
       "      <td>7</td>\n",
       "      <td>Rural</td>\n",
       "    </tr>\n",
       "  </tbody>\n",
       "</table>\n",
       "</div>"
      ],
      "text/plain": [
       "            city  Rides  Average Fare by City City Category  Nbr of Rides  \\\n",
       "0    Amandaburgh     18             24.641667         Urban            18   \n",
       "1    Barajasview     22             25.332273         Urban            22   \n",
       "2  Barronchester     16             36.422500      Suburban            16   \n",
       "3    Bethanyland     18             32.956111      Suburban            18   \n",
       "4   Bradshawfurt     10             40.064000         Rural            10   \n",
       "\n",
       "   driver_count      type  \n",
       "0            12     Urban  \n",
       "1            26     Urban  \n",
       "2            11  Suburban  \n",
       "3            22  Suburban  \n",
       "4             7     Rural  "
      ]
     },
     "execution_count": 109,
     "metadata": {},
     "output_type": "execute_result"
    }
   ],
   "source": [
    "# testing putting driver # back into the city lines\n",
    "ride_sharing_df = pd.merge(ride_sharing_df, city_data_df, how='left', on=\"city\")\n",
    "ride_sharing_df.head()"
   ]
  },
  {
   "cell_type": "code",
   "execution_count": 110,
   "metadata": {},
   "outputs": [
    {
     "data": {
      "text/html": [
       "<div>\n",
       "<style scoped>\n",
       "    .dataframe tbody tr th:only-of-type {\n",
       "        vertical-align: middle;\n",
       "    }\n",
       "\n",
       "    .dataframe tbody tr th {\n",
       "        vertical-align: top;\n",
       "    }\n",
       "\n",
       "    .dataframe thead th {\n",
       "        text-align: right;\n",
       "    }\n",
       "</style>\n",
       "<table border=\"1\" class=\"dataframe\">\n",
       "  <thead>\n",
       "    <tr style=\"text-align: right;\">\n",
       "      <th></th>\n",
       "      <th>city</th>\n",
       "      <th>Rides</th>\n",
       "      <th>Average Fare by City</th>\n",
       "      <th>City Category</th>\n",
       "      <th>Nbr of Rides</th>\n",
       "      <th>Nbr of Drivers</th>\n",
       "      <th>type</th>\n",
       "    </tr>\n",
       "  </thead>\n",
       "  <tbody>\n",
       "    <tr>\n",
       "      <th>0</th>\n",
       "      <td>Amandaburgh</td>\n",
       "      <td>18</td>\n",
       "      <td>24.641667</td>\n",
       "      <td>Urban</td>\n",
       "      <td>18</td>\n",
       "      <td>12</td>\n",
       "      <td>Urban</td>\n",
       "    </tr>\n",
       "    <tr>\n",
       "      <th>1</th>\n",
       "      <td>Barajasview</td>\n",
       "      <td>22</td>\n",
       "      <td>25.332273</td>\n",
       "      <td>Urban</td>\n",
       "      <td>22</td>\n",
       "      <td>26</td>\n",
       "      <td>Urban</td>\n",
       "    </tr>\n",
       "    <tr>\n",
       "      <th>2</th>\n",
       "      <td>Barronchester</td>\n",
       "      <td>16</td>\n",
       "      <td>36.422500</td>\n",
       "      <td>Suburban</td>\n",
       "      <td>16</td>\n",
       "      <td>11</td>\n",
       "      <td>Suburban</td>\n",
       "    </tr>\n",
       "    <tr>\n",
       "      <th>3</th>\n",
       "      <td>Bethanyland</td>\n",
       "      <td>18</td>\n",
       "      <td>32.956111</td>\n",
       "      <td>Suburban</td>\n",
       "      <td>18</td>\n",
       "      <td>22</td>\n",
       "      <td>Suburban</td>\n",
       "    </tr>\n",
       "    <tr>\n",
       "      <th>4</th>\n",
       "      <td>Bradshawfurt</td>\n",
       "      <td>10</td>\n",
       "      <td>40.064000</td>\n",
       "      <td>Rural</td>\n",
       "      <td>10</td>\n",
       "      <td>7</td>\n",
       "      <td>Rural</td>\n",
       "    </tr>\n",
       "  </tbody>\n",
       "</table>\n",
       "</div>"
      ],
      "text/plain": [
       "            city  Rides  Average Fare by City City Category  Nbr of Rides  \\\n",
       "0    Amandaburgh     18             24.641667         Urban            18   \n",
       "1    Barajasview     22             25.332273         Urban            22   \n",
       "2  Barronchester     16             36.422500      Suburban            16   \n",
       "3    Bethanyland     18             32.956111      Suburban            18   \n",
       "4   Bradshawfurt     10             40.064000         Rural            10   \n",
       "\n",
       "   Nbr of Drivers      type  \n",
       "0              12     Urban  \n",
       "1              26     Urban  \n",
       "2              11  Suburban  \n",
       "3              22  Suburban  \n",
       "4               7     Rural  "
      ]
     },
     "execution_count": 110,
     "metadata": {},
     "output_type": "execute_result"
    }
   ],
   "source": [
    "ride_sharing_df = ride_sharing_df.rename(columns={'driver_count': 'Nbr of Drivers'})\n",
    "ride_sharing_df.head()"
   ]
  },
  {
   "cell_type": "code",
   "execution_count": 111,
   "metadata": {},
   "outputs": [],
   "source": [
    "drivers_by_city = ride_sharing_df.groupby('city')['Nbr of Drivers'].sum()"
   ]
  },
  {
   "cell_type": "code",
   "execution_count": 112,
   "metadata": {},
   "outputs": [
    {
     "data": {
      "text/html": [
       "<div>\n",
       "<style scoped>\n",
       "    .dataframe tbody tr th:only-of-type {\n",
       "        vertical-align: middle;\n",
       "    }\n",
       "\n",
       "    .dataframe tbody tr th {\n",
       "        vertical-align: top;\n",
       "    }\n",
       "\n",
       "    .dataframe thead th {\n",
       "        text-align: right;\n",
       "    }\n",
       "</style>\n",
       "<table border=\"1\" class=\"dataframe\">\n",
       "  <thead>\n",
       "    <tr style=\"text-align: right;\">\n",
       "      <th></th>\n",
       "      <th>city</th>\n",
       "      <th>Rides</th>\n",
       "      <th>Average Fare by City</th>\n",
       "      <th>City Category</th>\n",
       "      <th>Nbr of Rides</th>\n",
       "      <th>Nbr of Drivers</th>\n",
       "      <th>type</th>\n",
       "    </tr>\n",
       "  </thead>\n",
       "  <tbody>\n",
       "    <tr>\n",
       "      <th>4</th>\n",
       "      <td>Bradshawfurt</td>\n",
       "      <td>10</td>\n",
       "      <td>40.064000</td>\n",
       "      <td>Rural</td>\n",
       "      <td>10</td>\n",
       "      <td>7</td>\n",
       "      <td>Rural</td>\n",
       "    </tr>\n",
       "    <tr>\n",
       "      <th>17</th>\n",
       "      <td>Garzaport</td>\n",
       "      <td>3</td>\n",
       "      <td>24.123333</td>\n",
       "      <td>Rural</td>\n",
       "      <td>3</td>\n",
       "      <td>7</td>\n",
       "      <td>Rural</td>\n",
       "    </tr>\n",
       "    <tr>\n",
       "      <th>20</th>\n",
       "      <td>Harringtonfort</td>\n",
       "      <td>6</td>\n",
       "      <td>33.470000</td>\n",
       "      <td>Rural</td>\n",
       "      <td>6</td>\n",
       "      <td>4</td>\n",
       "      <td>Rural</td>\n",
       "    </tr>\n",
       "    <tr>\n",
       "      <th>24</th>\n",
       "      <td>Jessicaport</td>\n",
       "      <td>6</td>\n",
       "      <td>36.013333</td>\n",
       "      <td>Rural</td>\n",
       "      <td>6</td>\n",
       "      <td>1</td>\n",
       "      <td>Rural</td>\n",
       "    </tr>\n",
       "    <tr>\n",
       "      <th>33</th>\n",
       "      <td>Lake Jamie</td>\n",
       "      <td>6</td>\n",
       "      <td>34.358333</td>\n",
       "      <td>Rural</td>\n",
       "      <td>6</td>\n",
       "      <td>4</td>\n",
       "      <td>Rural</td>\n",
       "    </tr>\n",
       "  </tbody>\n",
       "</table>\n",
       "</div>"
      ],
      "text/plain": [
       "              city  Rides  Average Fare by City City Category  Nbr of Rides  \\\n",
       "4     Bradshawfurt     10             40.064000         Rural            10   \n",
       "17       Garzaport      3             24.123333         Rural             3   \n",
       "20  Harringtonfort      6             33.470000         Rural             6   \n",
       "24     Jessicaport      6             36.013333         Rural             6   \n",
       "33      Lake Jamie      6             34.358333         Rural             6   \n",
       "\n",
       "    Nbr of Drivers   type  \n",
       "4                7  Rural  \n",
       "17               7  Rural  \n",
       "20               4  Rural  \n",
       "24               1  Rural  \n",
       "33               4  Rural  "
      ]
     },
     "execution_count": 112,
     "metadata": {},
     "output_type": "execute_result"
    }
   ],
   "source": [
    "# need to separate ride_sharing_df into 3 df's by type\n",
    "urban_ride_sharing_df = ride_sharing_df.loc[ride_sharing_df['City Category'] == \"Urban\"]\n",
    "suburban_ride_sharing_df = ride_sharing_df.loc[ride_sharing_df['City Category'] == \"Suburban\"]\n",
    "rural_ride_sharing_df = ride_sharing_df.loc[ride_sharing_df['City Category'] == \"Rural\"]\n",
    "\n",
    "rural_ride_sharing_df.head()"
   ]
  },
  {
   "cell_type": "code",
   "execution_count": 113,
   "metadata": {},
   "outputs": [],
   "source": [
    "rides_by_urban = urban_ride_sharing_df.groupby('city')['Nbr of Rides'].sum()\n",
    "average_by_urban = urban_ride_sharing_df.groupby('city')['Average Fare by City'].mean()\n",
    "rides_by_suburban = suburban_ride_sharing_df.groupby('city')['Nbr of Rides'].sum()\n",
    "average_by_suburban = suburban_ride_sharing_df.groupby('city')['Average Fare by City'].mean()\n",
    "rides_by_rural = rural_ride_sharing_df.groupby('city')['Nbr of Rides'].sum()\n",
    "average_by_rural = rural_ride_sharing_df.groupby('city')['Average Fare by City'].mean()\n",
    "\n",
    "drivers_urban = urban_ride_sharing_df['Nbr of Drivers']\n",
    "drivers_suburban = suburban_ride_sharing_df['Nbr of Drivers']\n",
    "drivers_rural = rural_ride_sharing_df['Nbr of Drivers']"
   ]
  },
  {
   "cell_type": "code",
   "execution_count": 114,
   "metadata": {},
   "outputs": [
    {
     "name": "stdout",
     "output_type": "stream",
     "text": [
      "rides_by_urban 66\n",
      "average_by_urban 66\n",
      "rides_by_suburban 36\n",
      "average_by_suburban 36\n",
      "averrides_by_ruralage_by_urban 18\n",
      "average_by_rural 18\n"
     ]
    }
   ],
   "source": [
    "print(\"rides_by_urban\", rides_by_urban.count())\n",
    "print(\"average_by_urban\", average_by_urban.count())\n",
    "print(\"rides_by_suburban\", rides_by_suburban.count())\n",
    "print(\"average_by_suburban\", average_by_suburban.count())\n",
    "print(\"averrides_by_ruralage_by_urban\", rides_by_rural.count())\n",
    "print(\"average_by_rural\", average_by_rural.count())"
   ]
  },
  {
   "cell_type": "code",
   "execution_count": 115,
   "metadata": {},
   "outputs": [
    {
     "data": {
      "text/html": [
       "<div>\n",
       "<style scoped>\n",
       "    .dataframe tbody tr th:only-of-type {\n",
       "        vertical-align: middle;\n",
       "    }\n",
       "\n",
       "    .dataframe tbody tr th {\n",
       "        vertical-align: top;\n",
       "    }\n",
       "\n",
       "    .dataframe thead th {\n",
       "        text-align: right;\n",
       "    }\n",
       "</style>\n",
       "<table border=\"1\" class=\"dataframe\">\n",
       "  <thead>\n",
       "    <tr style=\"text-align: right;\">\n",
       "      <th></th>\n",
       "      <th>fare</th>\n",
       "      <th>Nbr of Rides</th>\n",
       "      <th>Ave Fare</th>\n",
       "    </tr>\n",
       "    <tr>\n",
       "      <th>type</th>\n",
       "      <th></th>\n",
       "      <th></th>\n",
       "      <th></th>\n",
       "    </tr>\n",
       "  </thead>\n",
       "  <tbody>\n",
       "    <tr>\n",
       "      <th>Rural</th>\n",
       "      <td>4327.93</td>\n",
       "      <td>125</td>\n",
       "      <td>34.623440</td>\n",
       "    </tr>\n",
       "    <tr>\n",
       "      <th>Suburban</th>\n",
       "      <td>19356.33</td>\n",
       "      <td>625</td>\n",
       "      <td>30.970128</td>\n",
       "    </tr>\n",
       "    <tr>\n",
       "      <th>Urban</th>\n",
       "      <td>39854.38</td>\n",
       "      <td>1625</td>\n",
       "      <td>24.525772</td>\n",
       "    </tr>\n",
       "  </tbody>\n",
       "</table>\n",
       "</div>"
      ],
      "text/plain": [
       "              fare  Nbr of Rides   Ave Fare\n",
       "type                                       \n",
       "Rural      4327.93           125  34.623440\n",
       "Suburban  19356.33           625  30.970128\n",
       "Urban     39854.38          1625  24.525772"
      ]
     },
     "execution_count": 115,
     "metadata": {},
     "output_type": "execute_result"
    }
   ],
   "source": [
    "city_group_df = pd.DataFrame(city_group)\n",
    "\n",
    "city_group_df['Nbr of Rides'] = city_rides\n",
    "city_group_df['Ave Fare'] = city_group_df['fare'] / city_group_df['Nbr of Rides']\n",
    "\n",
    "city_group_df"
   ]
  },
  {
   "cell_type": "code",
   "execution_count": 116,
   "metadata": {},
   "outputs": [],
   "source": [
    "city_group_df = city_group_df.rename(columns={'fare': 'Fare'})"
   ]
  },
  {
   "cell_type": "code",
   "execution_count": 117,
   "metadata": {},
   "outputs": [
    {
     "name": "stdout",
     "output_type": "stream",
     "text": [
      "total_fares 63538.63999999999\n",
      "total_rides 2375\n"
     ]
    }
   ],
   "source": [
    "total_fares = city_group_df['Fare'].sum()\n",
    "total_rides = pyber_df['fare'].count()\n",
    "\n",
    "print(\"total_fares\", total_fares)\n",
    "print(\"total_rides\", total_rides)"
   ]
  },
  {
   "cell_type": "code",
   "execution_count": 118,
   "metadata": {},
   "outputs": [
    {
     "data": {
      "text/html": [
       "<div>\n",
       "<style scoped>\n",
       "    .dataframe tbody tr th:only-of-type {\n",
       "        vertical-align: middle;\n",
       "    }\n",
       "\n",
       "    .dataframe tbody tr th {\n",
       "        vertical-align: top;\n",
       "    }\n",
       "\n",
       "    .dataframe thead th {\n",
       "        text-align: right;\n",
       "    }\n",
       "</style>\n",
       "<table border=\"1\" class=\"dataframe\">\n",
       "  <thead>\n",
       "    <tr style=\"text-align: right;\">\n",
       "      <th></th>\n",
       "      <th>Fare</th>\n",
       "      <th>Nbr of Rides</th>\n",
       "      <th>Ave Fare</th>\n",
       "      <th>% of Total Fare</th>\n",
       "    </tr>\n",
       "    <tr>\n",
       "      <th>type</th>\n",
       "      <th></th>\n",
       "      <th></th>\n",
       "      <th></th>\n",
       "      <th></th>\n",
       "    </tr>\n",
       "  </thead>\n",
       "  <tbody>\n",
       "    <tr>\n",
       "      <th>Rural</th>\n",
       "      <td>4327.93</td>\n",
       "      <td>125</td>\n",
       "      <td>34.623440</td>\n",
       "      <td>6.811493</td>\n",
       "    </tr>\n",
       "    <tr>\n",
       "      <th>Suburban</th>\n",
       "      <td>19356.33</td>\n",
       "      <td>625</td>\n",
       "      <td>30.970128</td>\n",
       "      <td>30.463872</td>\n",
       "    </tr>\n",
       "    <tr>\n",
       "      <th>Urban</th>\n",
       "      <td>39854.38</td>\n",
       "      <td>1625</td>\n",
       "      <td>24.525772</td>\n",
       "      <td>62.724635</td>\n",
       "    </tr>\n",
       "  </tbody>\n",
       "</table>\n",
       "</div>"
      ],
      "text/plain": [
       "              Fare  Nbr of Rides   Ave Fare  % of Total Fare\n",
       "type                                                        \n",
       "Rural      4327.93           125  34.623440         6.811493\n",
       "Suburban  19356.33           625  30.970128        30.463872\n",
       "Urban     39854.38          1625  24.525772        62.724635"
      ]
     },
     "execution_count": 118,
     "metadata": {},
     "output_type": "execute_result"
    }
   ],
   "source": [
    "city_group_df['% of Total Fare'] = (city_group_df['Fare'] / total_fares)*100\n",
    "city_group_df"
   ]
  },
  {
   "cell_type": "code",
   "execution_count": 119,
   "metadata": {},
   "outputs": [
    {
     "data": {
      "text/plain": [
       "Fare               float64\n",
       "Nbr of Rides         int64\n",
       "Ave Fare           float64\n",
       "% of Total Fare    float64\n",
       "dtype: object"
      ]
     },
     "execution_count": 119,
     "metadata": {},
     "output_type": "execute_result"
    }
   ],
   "source": [
    "city_group_df.dtypes"
   ]
  },
  {
   "cell_type": "code",
   "execution_count": 120,
   "metadata": {},
   "outputs": [
    {
     "data": {
      "text/html": [
       "<div>\n",
       "<style scoped>\n",
       "    .dataframe tbody tr th:only-of-type {\n",
       "        vertical-align: middle;\n",
       "    }\n",
       "\n",
       "    .dataframe tbody tr th {\n",
       "        vertical-align: top;\n",
       "    }\n",
       "\n",
       "    .dataframe thead th {\n",
       "        text-align: right;\n",
       "    }\n",
       "</style>\n",
       "<table border=\"1\" class=\"dataframe\">\n",
       "  <thead>\n",
       "    <tr style=\"text-align: right;\">\n",
       "      <th></th>\n",
       "      <th>type</th>\n",
       "      <th>Fare</th>\n",
       "      <th>Nbr of Rides</th>\n",
       "      <th>Ave Fare</th>\n",
       "      <th>% of Total Fare</th>\n",
       "    </tr>\n",
       "  </thead>\n",
       "  <tbody>\n",
       "    <tr>\n",
       "      <th>0</th>\n",
       "      <td>Rural</td>\n",
       "      <td>4327.93</td>\n",
       "      <td>125</td>\n",
       "      <td>34.623440</td>\n",
       "      <td>6.811493</td>\n",
       "    </tr>\n",
       "    <tr>\n",
       "      <th>1</th>\n",
       "      <td>Suburban</td>\n",
       "      <td>19356.33</td>\n",
       "      <td>625</td>\n",
       "      <td>30.970128</td>\n",
       "      <td>30.463872</td>\n",
       "    </tr>\n",
       "    <tr>\n",
       "      <th>2</th>\n",
       "      <td>Urban</td>\n",
       "      <td>39854.38</td>\n",
       "      <td>1625</td>\n",
       "      <td>24.525772</td>\n",
       "      <td>62.724635</td>\n",
       "    </tr>\n",
       "  </tbody>\n",
       "</table>\n",
       "</div>"
      ],
      "text/plain": [
       "       type      Fare  Nbr of Rides   Ave Fare  % of Total Fare\n",
       "0     Rural   4327.93           125  34.623440         6.811493\n",
       "1  Suburban  19356.33           625  30.970128        30.463872\n",
       "2     Urban  39854.38          1625  24.525772        62.724635"
      ]
     },
     "execution_count": 120,
     "metadata": {},
     "output_type": "execute_result"
    }
   ],
   "source": [
    "city_group_df.reset_index(level=0, inplace=True)\n",
    "city_group_df = city_group_df.rename(columns={'fare': 'Fare'})\n",
    "city_group_df.head()"
   ]
  },
  {
   "cell_type": "code",
   "execution_count": 121,
   "metadata": {},
   "outputs": [
    {
     "name": "stdout",
     "output_type": "stream",
     "text": [
      "urban_fares 39854.38\n",
      "suburban_fares 19356.329999999994\n",
      "rural_fares 4327.93\n",
      "urban_rides 1625\n",
      "suburban_rides 625\n",
      "rural_rides 125\n",
      "urban_drivers 2405\n",
      "suburban_drivers 490\n",
      "rural_drivers 78\n"
     ]
    }
   ],
   "source": [
    "urban_fares = city_group_df.loc[city_group_df.type == \"Urban\", \"Fare\"].sum()\n",
    "suburban_fares = city_group_df.loc[city_group_df.type == \"Suburban\", \"Fare\"].sum()\n",
    "rural_fares = city_group_df.loc[city_group_df.type == \"Rural\", \"Fare\"].sum()\n",
    "\n",
    "urban_rides = ride_sharing_df.loc[ride_sharing_df.type == \"Urban\", \"Rides\"].sum()\n",
    "suburban_rides = ride_sharing_df.loc[ride_sharing_df.type == \"Suburban\", \"Rides\"].sum()\n",
    "rural_rides = ride_sharing_df.loc[ride_sharing_df.type == \"Rural\", \"Rides\"].sum()\n",
    "\n",
    "urban_drivers = ride_sharing_df.loc[ride_sharing_df.type == \"Urban\", \"Nbr of Drivers\"].sum()\n",
    "suburban_drivers = ride_sharing_df.loc[ride_sharing_df.type == \"Suburban\", \"Nbr of Drivers\"].sum()\n",
    "rural_drivers = ride_sharing_df.loc[ride_sharing_df.type == \"Rural\", \"Nbr of Drivers\"].sum()\n",
    "\n",
    "print(\"urban_fares\", urban_fares)\n",
    "print(\"suburban_fares\", suburban_fares)\n",
    "print(\"rural_fares\", rural_fares)\n",
    "print(\"urban_rides\", urban_rides)\n",
    "print(\"suburban_rides\", suburban_rides)\n",
    "print(\"rural_rides\", rural_rides)\n",
    "print(\"urban_drivers\", urban_drivers)\n",
    "print(\"suburban_drivers\", suburban_drivers)\n",
    "print(\"rural_drivers\", rural_drivers)"
   ]
  },
  {
   "cell_type": "markdown",
   "metadata": {},
   "source": [
    "## Bubble Plot of Ride Sharing Data"
   ]
  },
  {
   "cell_type": "code",
   "execution_count": 131,
   "metadata": {
    "scrolled": true
   },
   "outputs": [
    {
     "data": {
      "image/png": "[encoded data removed]",
      "text/plain": [
       "<Figure size 432x288 with 1 Axes>"
      ]
     },
     "metadata": {
      "needs_background": "light"
     },
     "output_type": "display_data"
    }
   ],
   "source": [
    "# Obtain the x and y coordinates for each of the three city types\n",
    "max_rides = rides_by_city.max()\n",
    "min_rides = rides_by_city.min()\n",
    "max_fare = average_by_city.max()\n",
    "min_fare = average_by_city.min()\n",
    "x_limit = max_rides+1\n",
    "y_limit = max_fare+1\n",
    "x_axis_urban = rides_by_urban\n",
    "y_axis_urban = average_by_urban\n",
    "x_axis_suburban = rides_by_suburban\n",
    "y_axis_suburban = average_by_suburban\n",
    "x_axis_rural = rides_by_rural\n",
    "y_axis_rural = average_by_rural\n",
    "\n",
    "\n",
    "# s = drivers_by_city\n",
    "# both x and y have 120 data points\n",
    "x_label = \"Total Number of Rides (per City)\"\n",
    "y_label = \"Average Fare ($)\"\n",
    "bubble_title = \"Pyber Ride Sharing Data (2016)\"\n",
    "\n",
    "bubble_labels = [\"Urban\", \"Suburban\", \"Rural\"]\n",
    "bubble_colors = [\"gold\", \"skyblue\", \"coral\"]\n",
    "\n",
    "\n",
    "# Build the scatter plots for each city types - requires 3 versions of variables\n",
    "\n",
    "plt.scatter(x_axis_urban, y_axis_urban, marker=\"o\", facecolors=\"coral\", \n",
    "            edgecolor=\"black\", s=(drivers_urban*8), alpha=0.85, linewidth=2)\n",
    "plt.scatter(x_axis_suburban, y_axis_suburban, marker=\"o\", facecolors=\"skyblue\", \n",
    "            edgecolor=\"black\", s=(drivers_suburban*8), alpha=0.85, linewidth=2)\n",
    "plt.scatter(x_axis_rural, y_axis_rural, marker=\"o\", facecolors=\"gold\", \n",
    "            edgecolor=\"black\", s=(drivers_rural*8), alpha=0.85, linewidth=2)\n",
    "\n",
    "plt.rc('grid', linestyle=\"-\", color='lightgrey')\n",
    "plt.grid()\n",
    "plt.title(bubble_title)\n",
    "plt.xlabel(x_label)\n",
    "plt.ylabel(y_label)\n",
    "#plt.show()\n",
    "\n",
    "# Incorporate the other graph properties\n",
    "\n",
    "\n",
    "# Create a legend\n",
    "bubble_legend = plt.legend(bubble_labels, loc=\"best\", fontsize = 'medium',\n",
    "                           fancybox=True, title=\"City Types\", handlelength= 2, markerscale=6)\n",
    "for handle in bubble_legend.legendHandles:\n",
    "    handle.set_sizes([30.0])\n",
    "\n",
    "# Incorporate a text label regarding circle size\n",
    "\n",
    "text = \"Note: \\nCircle size correlates with driver \\ncount per city\"\n",
    "plt.figtext(.92,.65,text)\n",
    "\n",
    "# Save Figure\n",
    "plt.savefig(\"../Images/Pyber_ride_sharing.png\")\n",
    "\n",
    "# Show plot - example\n",
    "plt.show()"
   ]
  },
  {
   "cell_type": "markdown",
   "metadata": {},
   "source": [
    "## Total Fares by City Type"
   ]
  },
  {
   "cell_type": "code",
   "execution_count": 123,
   "metadata": {},
   "outputs": [
    {
     "name": "stdout",
     "output_type": "stream",
     "text": [
      "30.463872062732218\n",
      "62.72463496228438\n",
      "6.8114929749834126\n"
     ]
    }
   ],
   "source": [
    "# Calculate Type Percents - total fares by city type\n",
    "suburban_percent = (suburban_fares/total_fares)*100\n",
    "urban_percent = (urban_fares/total_fares)*100\n",
    "rural_percent = (rural_fares/total_fares)*100\n",
    "print(suburban_percent)\n",
    "print(urban_percent)\n",
    "print(rural_percent)\n"
   ]
  },
  {
   "cell_type": "code",
   "execution_count": 124,
   "metadata": {},
   "outputs": [],
   "source": [
    "# Build Pie Chart - total fares by city type\n",
    "labels = [\"Urban\", \"Rural\", \"Suburban\"]\n",
    "sizes = [urban_percent, rural_percent, suburban_percent]\n",
    "colors = [\"coral\", \"gold\", \"skyblue\"]\n",
    "explode = (0.1, 0.1, 0.1)\n",
    "pie1_title = \"% of Total Fares by City Type\""
   ]
  },
  {
   "cell_type": "code",
   "execution_count": 125,
   "metadata": {},
   "outputs": [
    {
     "data": {
      "image/png": "[encoded data removed]",
      "text/plain": [
       "<Figure size 432x288 with 1 Axes>"
      ]
     },
     "metadata": {},
     "output_type": "display_data"
    }
   ],
   "source": [
    "# Show Figure - total fares by city type\n",
    "#plt.pie(sizes, explode = explode, labels = labels, colors = colors, \n",
    "#        autopct = \"%1.1f%%\", shadow = True, startangle=140)\n",
    "plt.pie(sizes, \n",
    "        explode = explode, \n",
    "        labels = labels, \n",
    "        colors = colors, \n",
    "        autopct = \"%1.1f%%\", \n",
    "        shadow = True, \n",
    "        startangle=270, \n",
    "        wedgeprops={\"edgecolor\":\"green\",'linewidth': 1, 'linestyle': 'dashed', 'antialiased': True})\n",
    "\n",
    "plt.title(pie1_title)\n",
    "#plt.legend(labels, loc=\"lower right\")\n",
    "plt.axis('auto')\n",
    "\n",
    "# Save Figure\n",
    "plt.savefig(\"../Images/PyPies_fares.png\")\n",
    "\n",
    "# show the chart\n",
    "plt.show()"
   ]
  },
  {
   "cell_type": "markdown",
   "metadata": {},
   "source": [
    "## Total Rides by City Type"
   ]
  },
  {
   "cell_type": "code",
   "execution_count": 126,
   "metadata": {},
   "outputs": [
    {
     "name": "stdout",
     "output_type": "stream",
     "text": [
      "26.31578947368421\n",
      "68.42105263157895\n",
      "5.263157894736842\n"
     ]
    }
   ],
   "source": [
    "# Calculate Ride Percents - total rides by city type\n",
    "s_rides_percent = (suburban_rides/total_rides)*100\n",
    "u_rides_percent = (urban_rides/total_rides)*100\n",
    "r_rural_percent = (rural_rides/total_rides)*100\n",
    "print(s_rides_percent)\n",
    "print(u_rides_percent)\n",
    "print(r_rural_percent)\n",
    "\n",
    "# Build Pie Chart\n",
    "labels = [\"Suburban\", \"Urban\", \"Rural\"]\n",
    "sizes = [s_rides_percent, u_rides_percent, r_rural_percent]\n",
    "colors = [\"skyblue\", \"coral\", \"yellow\"]\n",
    "explode = (0.1, 0.1, 0.1)\n",
    "depths = [30, 20, 10]\n",
    "pie2_title = \"% of Total Rides by City Type\"\n"
   ]
  },
  {
   "cell_type": "code",
   "execution_count": 127,
   "metadata": {},
   "outputs": [
    {
     "data": {
      "image/png": "[encoded data removed]",
      "text/plain": [
       "<Figure size 432x288 with 1 Axes>"
      ]
     },
     "metadata": {},
     "output_type": "display_data"
    }
   ],
   "source": [
    "# Show Figure - total fares by city type\n",
    "plt.pie(sizes, \n",
    "        explode = explode, \n",
    "        labels = labels, \n",
    "        colors = colors, \n",
    "        autopct = \"%1.1f%%\", \n",
    "        shadow = True, \n",
    "        startangle =175,\n",
    "        wedgeprops={\"edgecolor\":\"black\",'linewidth': 1, 'linestyle': 'solid', 'antialiased': True})\n",
    "#plt.legend(labels, loc=\"upper left\")\n",
    "plt.axis('auto')\n",
    "plt.title(pie2_title)\n",
    "\n",
    "# Save Figure\n",
    "plt.savefig(\"../Images/PyPies_rides.png\")\n",
    "\n",
    "# display the pie chart\n",
    "plt.show()"
   ]
  },
  {
   "cell_type": "markdown",
   "metadata": {},
   "source": [
    "## Total Drivers by City Type"
   ]
  },
  {
   "cell_type": "code",
   "execution_count": 128,
   "metadata": {},
   "outputs": [],
   "source": [
    "total_drivers = drivers_by_city.sum()"
   ]
  },
  {
   "cell_type": "code",
   "execution_count": 129,
   "metadata": {},
   "outputs": [
    {
     "name": "stdout",
     "output_type": "stream",
     "text": [
      "16.481668348469558\n",
      "80.89471913891691\n",
      "2.6236125126135215\n"
     ]
    }
   ],
   "source": [
    "# Calculate Ride Percents - total drivers by city type\n",
    "s_rides_percent = (suburban_drivers/total_drivers)*100\n",
    "u_rides_percent = (urban_drivers/total_drivers)*100\n",
    "r_rural_percent = (rural_drivers/total_drivers)*100\n",
    "\n",
    "print(s_rides_percent)\n",
    "print(u_rides_percent)\n",
    "print(r_rural_percent)\n",
    "\n",
    "# Build Pie Chart\n",
    "labels = [\"Suburban\", \"Urban\", \"Rural\"]\n",
    "sizes = [s_rides_percent, u_rides_percent, r_rural_percent]\n",
    "colors = [\"skyblue\", \"coral\", \"gold\"]\n",
    "explode = (0.0, 0.1, 0.0)\n",
    "pie3_title = \"% of Total Drivers by City Type\"\n"
   ]
  },
  {
   "cell_type": "code",
   "execution_count": 130,
   "metadata": {
    "scrolled": true
   },
   "outputs": [
    {
     "data": {
      "image/png": "[encoded data removed]",
      "text/plain": [
       "<Figure size 432x288 with 1 Axes>"
      ]
     },
     "metadata": {},
     "output_type": "display_data"
    }
   ],
   "source": [
    "# Show Figure - total drivers by city type\n",
    "plt.pie(sizes, \n",
    "        explode = explode, \n",
    "        labels = labels, \n",
    "        colors = colors, \n",
    "        autopct = \"%1.1f%%\", \n",
    "        shadow = False, \n",
    "        startangle = 165,\n",
    "        wedgeprops={\"edgecolor\":\"purple\",'linewidth': 0.5, 'linestyle': 'solid', 'antialiased': True})\n",
    "#plt.legend(labels, loc=\"best\")\n",
    "plt.axis('auto')\n",
    "plt.title(pie3_title)\n",
    "\n",
    "# Save Figure\n",
    "plt.savefig(\"../Images/PyPies_drivers.png\")\n",
    "\n",
    "# display the pie chart\n",
    "plt.show()"
   ]
  },
  {
   "cell_type": "code",
   "execution_count": null,
   "metadata": {},
   "outputs": [],
   "source": []
  }
 ],
 "metadata": {
  "anaconda-cloud": {},
  "kernelspec": {
   "display_name": "Python 3",
   "language": "python",
   "name": "python3"
  },
  "language_info": {
   "codemirror_mode": {
    "name": "ipython",
    "version": 3
   },
   "file_extension": ".py",
   "mimetype": "text/x-python",
   "name": "python",
   "nbconvert_exporter": "python",
   "pygments_lexer": "ipython3",
   "version": "3.6.8"
  },
  "latex_envs": {
   "LaTeX_envs_menu_present": true,
   "autoclose": false,
   "autocomplete": true,
   "bibliofile": "biblio.bib",
   "cite_by": "apalike",
   "current_citInitial": 1,
   "eqLabelWithNumbers": true,
   "eqNumInitial": 1,
   "hotkeys": {
    "equation": "Ctrl-E",
    "itemize": "Ctrl-I"
   },
   "labels_anchors": false,
   "latex_user_defs": false,
   "report_style_numbering": false,
   "user_envs_cfg": false
  }
 },
 "nbformat": 4,
 "nbformat_minor": 2
}
